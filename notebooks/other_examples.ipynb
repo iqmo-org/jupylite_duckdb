{
 "cells": [
  {
   "cell_type": "code",
   "execution_count": null,
   "metadata": {},
   "outputs": [],
   "source": [
    "# If adding a local file:\n",
    "import importlib\n",
    "importlib.invalidate_caches()\n",
    "import yourpymodule"
   ]
  }
 ],
 "metadata": {
  "language_info": {
   "name": "python"
  },
  "orig_nbformat": 4
 },
 "nbformat": 4,
 "nbformat_minor": 2
}
