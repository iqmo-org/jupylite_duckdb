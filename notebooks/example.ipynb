{
 "cells": [
  {
   "cell_type": "code",
   "execution_count": null,
   "metadata": {},
   "outputs": [],
   "source": [
    "# Tested on https://jupyter.org/try-jupyter/lab/\n",
    "\n",
    "#%load_ext autoreload\n",
    "#%autoreload 2\n",
    "\n",
    "%pip install pandas\n",
    "%pip install jupylite-duckdb"
   ]
  },
  {
   "cell_type": "code",
   "execution_count": null,
   "metadata": {},
   "outputs": [],
   "source": [
    "import jupylite_duckdb as jd\n",
    "\n"
   ]
  },
  {
   "cell_type": "code",
   "execution_count": null,
   "metadata": {},
   "outputs": [],
   "source": [
    "conn = await jd.connect()\n",
    "r1 = await jd.query(\"pragma version\", conn)\n",
    "\n",
    "r2 = await jd.query(\"create or replace table xyz as select * from 'https://raw.githubusercontent.com/Teradata/kylo/master/samples/sample-data/parquet/userdata2.parquet'\", conn)\n",
    "r2 = await jd.query(\"select gender, count(*) as c from xyz group by gender\", conn)\n",
    "\n",
    "display(r1)\n",
    "display(r2)"
   ]
  },
  {
   "cell_type": "code",
   "execution_count": null,
   "metadata": {},
   "outputs": [],
   "source": [
    "# using an IIAFE\n",
    "import ddtest\n",
    "from js import globalThis\n",
    "import js\n",
    "from pandas import DataFrame\n",
    "\n",
    "js_obj_conn = js.Object()\n",
    "js_obj_conn.connectionstr = \":memory:\"\n",
    "\n",
    "ddtest.register_iiafes()\n",
    "\n",
    "globalThis.syncWrapperConnect(js_obj_conn)\n",
    "# connection now stored in globalThis.connection\n",
    "\n",
    "\n",
    "js_obj_q = js.Object()\n",
    "js_obj_q.connection = globalThis.connection\n",
    "js_obj_q.sql=\"pragma version\"\n",
    "globalThis.syncWrapperQuery(js_obj_q)\n",
    "a = globalThis.result.toArray()\n",
    "data = [dict(v) for v in a.object_values()]\n",
    "df = DataFrame(data)\n",
    "display(data)"
   ]
  }
 ],
 "metadata": {
  "language_info": {
   "name": "python"
  },
  "orig_nbformat": 4
 },
 "nbformat": 4,
 "nbformat_minor": 2
}
