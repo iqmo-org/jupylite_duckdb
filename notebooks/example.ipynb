{
 "cells": [
  {
   "cell_type": "code",
   "execution_count": null,
   "metadata": {},
   "outputs": [],
   "source": [
    "# Install\n",
    "%pip install pandas ipywidgets nbformat>=4.2.0\n",
    "%pip install jupylite_duckdb --pre"
   ]
  },
  {
   "cell_type": "code",
   "execution_count": null,
   "metadata": {},
   "outputs": [],
   "source": [
    "# Import and Load Magics\n",
    "import pandas as pd\n",
    "import jupylite_duckdb as duckdb\n",
    "\n",
    "# Import needed to load the magics: \n",
    "from jupylite_duckdb import jdw_magic\n",
    "\n",
    "print(duckdb.__version__)\n",
    "print(pd.__version__)\n",
    "\n",
    "# Connect. If you skip this step, a transient/temp DB is used for each cell magic.\n",
    "await duckdb.connect()"
   ]
  },
  {
   "cell_type": "code",
   "execution_count": null,
   "metadata": {},
   "outputs": [],
   "source": [
    "%%dql\n",
    "-- Display duckdb version\n",
    "pragma version\n"
   ]
  },
  {
   "cell_type": "code",
   "execution_count": null,
   "metadata": {},
   "outputs": [],
   "source": [
    "%%dql -o abcdf\n",
    "create or replace table xyz as select * from 'https://raw.githubusercontent.com/Teradata/kylo/master/samples/sample-data/parquet/userdata2.parquet';\n",
    "select gender, count(*) from xyz group by gender"
   ]
  },
  {
   "cell_type": "code",
   "execution_count": null,
   "metadata": {},
   "outputs": [],
   "source": [
    "%%dql -o abcdf\n",
    "CREATE OR REPLACE TABLE abc\n",
    "    as \n",
    "SELECT *, v*x from range(10) t(v), range(5) s(x);\n",
    "select * from abc;"
   ]
  },
  {
   "cell_type": "code",
   "execution_count": null,
   "metadata": {},
   "outputs": [],
   "source": [
    "abcdf.describe()"
   ]
  }
 ],
 "metadata": {
  "language_info": {
   "name": "python"
  },
  "orig_nbformat": 4
 },
 "nbformat": 4,
 "nbformat_minor": 2
}
