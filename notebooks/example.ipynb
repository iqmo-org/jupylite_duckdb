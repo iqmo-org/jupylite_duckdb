{
 "cells": [
  {
   "cell_type": "code",
   "execution_count": null,
   "metadata": {},
   "outputs": [],
   "source": [
    "# Tested on https://jupyter.org/try-jupyter/lab/\n",
    "\n",
    "%load_ext autoreload\n",
    "%autoreload 2\n",
    "import piplite \n",
    "await piplite.install([\"pandas\"])\n",
    "await piplite.install([\"jupylite_duckdb\"])\n"
   ]
  },
  {
   "cell_type": "code",
   "execution_count": null,
   "metadata": {},
   "outputs": [],
   "source": [
    "import jupylite_duckdb as jd\n",
    "\n"
   ]
  },
  {
   "cell_type": "code",
   "execution_count": null,
   "metadata": {},
   "outputs": [],
   "source": [
    "conn = await jd.connect()\n",
    "r1 = await jd.query(\"pragma version\", conn)\n",
    "\n",
    "r2 = await jd.query(\"create or replace table xyz as select * from 'https://raw.githubusercontent.com/Teradata/kylo/master/samples/sample-data/parquet/userdata2.parquet'\", conn)\n",
    "r2 = await jd.query(\"select gender, count(*) as c from xyz group by gender\", conn)\n",
    "\n",
    "display(r1)\n",
    "display(r2)"
   ]
  }
 ],
 "metadata": {
  "language_info": {
   "name": "python"
  },
  "orig_nbformat": 4
 },
 "nbformat": 4,
 "nbformat_minor": 2
}
