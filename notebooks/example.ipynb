{
 "cells": [
  {
   "attachments": {},
   "cell_type": "markdown",
   "metadata": {},
   "source": [
    "# Test Sites\n",
    "- https://jupyterlite.github.io/demo/lab/index.html\n",
    "- https://jupyterlite.readthedocs.io/en/latest/_static/lab/?path=intro.ipynb\n",
    "- https://jupyter.org/try-jupyter/lab/\n",
    "\n",
    "## Package Installation\n",
    "This example uses %pip install, but you can also use:\n",
    "\n",
    "```\n",
    "import micropip\n",
    "await micropip.install(['pandas'])\n",
    "```\n",
    "or\n",
    "```\n",
    "import piplite \n",
    "await piplite.install([\"pandas\"])\n",
    "```\n"
   ]
  },
  {
   "cell_type": "code",
   "execution_count": null,
   "metadata": {},
   "outputs": [],
   "source": [
    "#%load_ext autoreload\n",
    "#%autoreload 2\n",
    "\n",
    "%pip install pandas\n",
    "%pip install jupylite-duckdb"
   ]
  },
  {
   "cell_type": "code",
   "execution_count": null,
   "metadata": {},
   "outputs": [],
   "source": [
    "import jupylite_duckdb as jd"
   ]
  },
  {
   "cell_type": "code",
   "execution_count": null,
   "metadata": {},
   "outputs": [],
   "source": [
    "conn = await jd.connect()\n",
    "r1 = await jd.query(\"pragma version\")\n",
    "\n",
    "r2 = await jd.query(\"create or replace table xyz as select * from 'https://raw.githubusercontent.com/Teradata/kylo/master/samples/sample-data/parquet/userdata2.parquet'\")\n",
    "r3 = await jd.query(\"select gender, count(*) as c from xyz group by gender\")\n",
    "\n",
    "display(r1)\n",
    "display(r2)\n",
    "display(r3)"
   ]
  },
  {
   "cell_type": "markdown",
   "metadata": {},
   "source": []
  }
 ],
 "metadata": {
  "kernelspec": {
   "display_name": "iqmo2",
   "language": "python",
   "name": "python3"
  },
  "language_info": {
   "codemirror_mode": {
    "name": "ipython",
    "version": 3
   },
   "file_extension": ".py",
   "mimetype": "text/x-python",
   "name": "python",
   "nbconvert_exporter": "python",
   "pygments_lexer": "ipython3",
   "version": "3.9.16"
  },
  "orig_nbformat": 4
 },
 "nbformat": 4,
 "nbformat_minor": 2
}
