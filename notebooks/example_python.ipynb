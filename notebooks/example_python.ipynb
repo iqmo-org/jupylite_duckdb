{
 "cells": [
  {
   "cell_type": "code",
   "execution_count": null,
   "metadata": {},
   "outputs": [],
   "source": [
    "# Useful tools for local development\n",
    "# %load_ext autoreload\n",
    "# %autoreload 2\n",
    "\n",
    "%pip install pandas\n",
    "%pip install jupylite-duckdb\n",
    "\n",
    "# Alternative install commands:\n",
    "#\n",
    "# import micropip\n",
    "# await micropip.install(['pandas'])\n",
    "#\n",
    "# import piplite \n",
    "#await piplite.install([\"pandas\"])\n"
   ]
  },
  {
   "cell_type": "code",
   "execution_count": null,
   "metadata": {},
   "outputs": [],
   "source": [
    "import jupylite_duckdb as duckdb"
   ]
  },
  {
   "cell_type": "code",
   "execution_count": null,
   "metadata": {},
   "outputs": [],
   "source": [
    "# Jupyter has \"autoawait\" enabled by default\n",
    "# Which allows these top level \"awaits\"\n",
    "# which are needed because the Javascript actions behind this are asynchronous\n",
    "\n",
    "conn = await duckdb.connect()\n",
    "r1 = await duckdb.query(\"pragma version\")\n",
    "r2 = await duckdb.query(\"create or replace table xyz as select * from 'https://raw.githubusercontent.com/Teradata/kylo/master/samples/sample-data/parquet/userdata2.parquet'\")\n",
    "r3 = await duckdb.query(\"select gender, count(*) as c from xyz group by gender\")\n",
    "\n",
    "display(r1)\n",
    "display(r2)\n",
    "display(r3)"
   ]
  },
  {
   "cell_type": "markdown",
   "metadata": {},
   "source": []
  }
 ],
 "metadata": {
  "kernelspec": {
   "display_name": "iqmo2",
   "language": "python",
   "name": "python3"
  },
  "language_info": {
   "codemirror_mode": {
    "name": "ipython",
    "version": 3
   },
   "file_extension": ".py",
   "mimetype": "text/x-python",
   "name": "python",
   "nbconvert_exporter": "python",
   "pygments_lexer": "ipython3",
   "version": "3.9.16"
  },
  "orig_nbformat": 4
 },
 "nbformat": 4,
 "nbformat_minor": 2
}
