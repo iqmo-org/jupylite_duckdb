{
 "cells": [
  {
   "cell_type": "code",
   "execution_count": null,
   "metadata": {},
   "outputs": [],
   "source": [
    "# Install\n",
    "%pip install pandas\n",
    "%pip install jupylite_duckdb --pre"
   ]
  },
  {
   "cell_type": "code",
   "execution_count": null,
   "metadata": {},
   "outputs": [],
   "source": [
    "# Import and Load Magics\n",
    "import pandas as pd\n",
    "import jupylite_duckdb as jd\n",
    "from jupylite_duckdb import jdw_magic\n",
    "\n",
    "print(jd.__version__)\n",
    "print(pd.__version__)"
   ]
  },
  {
   "cell_type": "code",
   "execution_count": null,
   "metadata": {},
   "outputs": [],
   "source": [
    "# Reset connection and connect\n",
    "\n",
    "jdw_magic.connection = None\n",
    "\n",
    "%dql connect"
   ]
  },
  {
   "cell_type": "code",
   "execution_count": null,
   "metadata": {},
   "outputs": [],
   "source": [
    "# If using line magics, each need to be separate cells... due to async\n",
    "%dql create table abc as select * from range(10)"
   ]
  },
  {
   "cell_type": "code",
   "execution_count": null,
   "metadata": {},
   "outputs": [],
   "source": [
    "%dql select * from abc"
   ]
  },
  {
   "cell_type": "code",
   "execution_count": null,
   "metadata": {},
   "outputs": [],
   "source": [
    "%%dql\n",
    "-- Or just run the statements in a series\n",
    "create table xyz as select * from range(10);\n",
    "select * from xyz"
   ]
  }
 ],
 "metadata": {
  "language_info": {
   "name": "python"
  },
  "orig_nbformat": 4
 },
 "nbformat": 4,
 "nbformat_minor": 2
}
